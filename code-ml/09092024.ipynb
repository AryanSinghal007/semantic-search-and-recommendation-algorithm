{
 "cells": [
  {
   "cell_type": "code",
   "execution_count": 1,
   "id": "10dffe30-ddb6-442b-9602-0275014853b8",
   "metadata": {},
   "outputs": [
    {
     "name": "stdout",
     "output_type": "stream",
     "text": [
      "CPU times: total: 1.77 s\n",
      "Wall time: 2.2 s\n"
     ]
    }
   ],
   "source": [
    "%%time\n",
    "import warnings\n",
    "warnings.filterwarnings(\"ignore\")\n",
    "import pickle\n",
    "import tqdm\n",
    "import numpy as np\n",
    "import pandas as pd\n",
    "import matplotlib.pyplot as plt\n",
    "from gensim.models import Word2Vec\n",
    "from nltk.tokenize import word_tokenize\n",
    "import multiprocessing\n",
    "from annoy import AnnoyIndex\n",
    "import re\n",
    "from nltk.corpus import stopwords\n",
    "from nltk.stem.snowball import SnowballStemmer\n"
   ]
  },
  {
   "cell_type": "markdown",
   "id": "1f945b38-7e41-47dc-b912-b6cac42bff91",
   "metadata": {},
   "source": [
    "<h2>Load Data</h2>"
   ]
  },
  {
   "cell_type": "code",
   "execution_count": 2,
   "id": "de8f7403-0605-4456-b0d4-500139259ec6",
   "metadata": {},
   "outputs": [
    {
     "name": "stdout",
     "output_type": "stream",
     "text": [
      "CPU times: total: 1.72 s\n",
      "Wall time: 1.86 s\n"
     ]
    }
   ],
   "source": [
    "%%time\n",
    "df = pd.read_csv('NEET_2024_RESULTS.csv')\n",
    "df.dropna(inplace=True)"
   ]
  },
  {
   "cell_type": "code",
   "execution_count": 3,
   "id": "8581baff-38a2-4f06-b0d4-98bfb2954bd4",
   "metadata": {},
   "outputs": [
    {
     "data": {
      "text/html": [
       "<div>\n",
       "<style scoped>\n",
       "    .dataframe tbody tr th:only-of-type {\n",
       "        vertical-align: middle;\n",
       "    }\n",
       "\n",
       "    .dataframe tbody tr th {\n",
       "        vertical-align: top;\n",
       "    }\n",
       "\n",
       "    .dataframe thead th {\n",
       "        text-align: right;\n",
       "    }\n",
       "</style>\n",
       "<table border=\"1\" class=\"dataframe\">\n",
       "  <thead>\n",
       "    <tr style=\"text-align: right;\">\n",
       "      <th></th>\n",
       "      <th>dummy_srlno</th>\n",
       "      <th>marks</th>\n",
       "      <th>state</th>\n",
       "      <th>city</th>\n",
       "      <th>center_name</th>\n",
       "      <th>center_number</th>\n",
       "    </tr>\n",
       "  </thead>\n",
       "  <tbody>\n",
       "    <tr>\n",
       "      <th>0</th>\n",
       "      <td>1101010001</td>\n",
       "      <td>46</td>\n",
       "      <td>ANDAMAN AND NICOBAR ISLANDS (UT)</td>\n",
       "      <td>PORT BLAIR</td>\n",
       "      <td>KENDRIYA VIDYALAYA NO. 1</td>\n",
       "      <td>110101</td>\n",
       "    </tr>\n",
       "    <tr>\n",
       "      <th>1</th>\n",
       "      <td>1101010002</td>\n",
       "      <td>226</td>\n",
       "      <td>ANDAMAN AND NICOBAR ISLANDS (UT)</td>\n",
       "      <td>PORT BLAIR</td>\n",
       "      <td>KENDRIYA VIDYALAYA NO. 1</td>\n",
       "      <td>110101</td>\n",
       "    </tr>\n",
       "    <tr>\n",
       "      <th>2</th>\n",
       "      <td>1101010003</td>\n",
       "      <td>449</td>\n",
       "      <td>ANDAMAN AND NICOBAR ISLANDS (UT)</td>\n",
       "      <td>PORT BLAIR</td>\n",
       "      <td>KENDRIYA VIDYALAYA NO. 1</td>\n",
       "      <td>110101</td>\n",
       "    </tr>\n",
       "    <tr>\n",
       "      <th>3</th>\n",
       "      <td>1101010004</td>\n",
       "      <td>424</td>\n",
       "      <td>ANDAMAN AND NICOBAR ISLANDS (UT)</td>\n",
       "      <td>PORT BLAIR</td>\n",
       "      <td>KENDRIYA VIDYALAYA NO. 1</td>\n",
       "      <td>110101</td>\n",
       "    </tr>\n",
       "    <tr>\n",
       "      <th>4</th>\n",
       "      <td>1101010005</td>\n",
       "      <td>222</td>\n",
       "      <td>ANDAMAN AND NICOBAR ISLANDS (UT)</td>\n",
       "      <td>PORT BLAIR</td>\n",
       "      <td>KENDRIYA VIDYALAYA NO. 1</td>\n",
       "      <td>110101</td>\n",
       "    </tr>\n",
       "  </tbody>\n",
       "</table>\n",
       "</div>"
      ],
      "text/plain": [
       "   dummy_srlno  marks                             state        city  \\\n",
       "0   1101010001     46  ANDAMAN AND NICOBAR ISLANDS (UT)  PORT BLAIR   \n",
       "1   1101010002    226  ANDAMAN AND NICOBAR ISLANDS (UT)  PORT BLAIR   \n",
       "2   1101010003    449  ANDAMAN AND NICOBAR ISLANDS (UT)  PORT BLAIR   \n",
       "3   1101010004    424  ANDAMAN AND NICOBAR ISLANDS (UT)  PORT BLAIR   \n",
       "4   1101010005    222  ANDAMAN AND NICOBAR ISLANDS (UT)  PORT BLAIR   \n",
       "\n",
       "                center_name  center_number  \n",
       "0  KENDRIYA VIDYALAYA NO. 1         110101  \n",
       "1  KENDRIYA VIDYALAYA NO. 1         110101  \n",
       "2  KENDRIYA VIDYALAYA NO. 1         110101  \n",
       "3  KENDRIYA VIDYALAYA NO. 1         110101  \n",
       "4  KENDRIYA VIDYALAYA NO. 1         110101  "
      ]
     },
     "execution_count": 3,
     "metadata": {},
     "output_type": "execute_result"
    }
   ],
   "source": [
    "df.head()"
   ]
  },
  {
   "cell_type": "code",
   "execution_count": null,
   "id": "561637e6-561c-4684-b94b-bd62c70f8dd4",
   "metadata": {},
   "outputs": [],
   "source": []
  },
  {
   "cell_type": "code",
   "execution_count": null,
   "id": "198f98b1-c779-4c2e-ad25-73fdd7c4fee8",
   "metadata": {},
   "outputs": [],
   "source": [
    "# # Group by relevant columns\n",
    "# group_columns = ['state']\n",
    "# agg_dict = {\n",
    "#     'center_name':'first',\n",
    "#     'center_number': 'first',\n",
    "#     'city': 'first',\n",
    "#     'marks': 'first'\n",
    "# }\n",
    "# df = df.groupby(group_columns).agg(agg_dict).reset_index()\n"
   ]
  },
  {
   "cell_type": "code",
   "execution_count": null,
   "id": "dc5aef7d-936d-4432-9769-581734e5b480",
   "metadata": {},
   "outputs": [],
   "source": [
    "# %%time\n",
    "# df = df.sort_values(by='marks', ascending=False).groupby('center_name').apply(lambda x: x.head(int(len(x)))).reset_index(drop=True)\n"
   ]
  },
  {
   "cell_type": "code",
   "execution_count": null,
   "id": "267a57f2-a172-41a5-a337-8f353c3b347f",
   "metadata": {},
   "outputs": [],
   "source": [
    "# df.to_csv('NEET_2024_RESULTS_processed.csv', index=False)"
   ]
  },
  {
   "cell_type": "code",
   "execution_count": 4,
   "id": "7ab7d1aa-0ba7-494a-8d95-4a2ec7b069df",
   "metadata": {},
   "outputs": [
    {
     "name": "stdout",
     "output_type": "stream",
     "text": [
      "CPU times: total: 1min 58s\n",
      "Wall time: 1min 58s\n"
     ]
    }
   ],
   "source": [
    "%%time\n",
    "sentences = [word_tokenize(sent) for sent in df['state'].tolist()]\n",
    "model = Word2Vec(sentences, vector_size=100, window=5, min_count=1, workers=multiprocessing.cpu_count())\n",
    "model.save(\"word2vec.model\")\n"
   ]
  },
  {
   "cell_type": "code",
   "execution_count": 5,
   "id": "d17aec59-f10b-484b-887c-0c32e47895d0",
   "metadata": {},
   "outputs": [],
   "source": [
    "from gensim.models import Word2Vec\n",
    "model = Word2Vec.load(\"word2vec.model\")"
   ]
  },
  {
   "cell_type": "code",
   "execution_count": 6,
   "id": "d637b5bf-c5f0-4b30-8fe7-c1afa7ced047",
   "metadata": {},
   "outputs": [],
   "source": [
    "def get_vector(s):\n",
    "    tokenized_phrase = word_tokenize(s)\n",
    "    filtered_tokenized_phrase = [word for word in tokenized_phrase if word in model.wv.key_to_index]\n",
    "\n",
    "     # Check if the filtered list is empty\n",
    "    if len(filtered_tokenized_phrase) == 0:\n",
    "        # Return a zero vector to avoid ZeroDivisionError\n",
    "        return np.zeros(model.vector_size)\n",
    "    \n",
    "    # Compute the average vector\n",
    "    \n",
    "    average_vector = sum([model.wv.get_vector(word) for word in filtered_tokenized_phrase]) / len(filtered_tokenized_phrase)\n",
    "    return average_vector"
   ]
  },
  {
   "cell_type": "code",
   "execution_count": 7,
   "id": "00e477a8-4692-4710-825e-c297a9a45ccc",
   "metadata": {},
   "outputs": [],
   "source": [
    "l1=df['state'].tolist()"
   ]
  },
  {
   "cell_type": "code",
   "execution_count": 8,
   "id": "558a6225-0734-4e6c-9cb9-54da9ab14e4c",
   "metadata": {},
   "outputs": [
    {
     "name": "stderr",
     "output_type": "stream",
     "text": [
      "100%|█████████████████████████████████████████████████████████████████████| 2333120/2333120 [02:33<00:00, 15222.71it/s]"
     ]
    },
    {
     "name": "stdout",
     "output_type": "stream",
     "text": [
      "CPU times: total: 2min 30s\n",
      "Wall time: 2min 33s\n"
     ]
    },
    {
     "name": "stderr",
     "output_type": "stream",
     "text": [
      "\n"
     ]
    }
   ],
   "source": [
    "%%time\n",
    "import tqdm as tqdm\n",
    "from annoy import AnnoyIndex\n",
    "dim = 100\n",
    "t = AnnoyIndex(dim,'euclidean')\n",
    "\n",
    "for j,i in tqdm.tqdm(enumerate(l1),total=len(l1)):\n",
    "    vector = get_vector(i)\n",
    "    t.add_item(j,vector)"
   ]
  },
  {
   "cell_type": "code",
   "execution_count": 9,
   "id": "bd6cca03-5d4b-4808-996b-4b86ece305fe",
   "metadata": {},
   "outputs": [
    {
     "name": "stdout",
     "output_type": "stream",
     "text": [
      "CPU times: total: 1min 36s\n",
      "Wall time: 20.6 s\n"
     ]
    },
    {
     "data": {
      "text/plain": [
       "True"
      ]
     },
     "execution_count": 9,
     "metadata": {},
     "output_type": "execute_result"
    }
   ],
   "source": [
    "%%time\n",
    "t.build(10)"
   ]
  },
  {
   "cell_type": "code",
   "execution_count": 10,
   "id": "118c938b-1841-455a-b1f5-793559464498",
   "metadata": {},
   "outputs": [],
   "source": [
    "index = list(range(len(l1)))\n",
    "desc=df['center_number'].tolist()\n",
    "desc_map = dict(zip(index,desc))\n",
    "stem_map = dict(zip(index,l1))\n",
    "hsn=df['center_name'].tolist()\n",
    "hsn_map = dict(zip(index,hsn))"
   ]
  },
  {
   "cell_type": "code",
   "execution_count": 11,
   "id": "cf889138-7109-4ec5-ab98-453fa750a553",
   "metadata": {},
   "outputs": [
    {
     "name": "stdout",
     "output_type": "stream",
     "text": [
      "saving Cr9.ann completed in 1.2604093551635742\n",
      "CPU times: total: 703 ms\n",
      "Wall time: 1.26 s\n"
     ]
    }
   ],
   "source": [
    "%%time\n",
    "import time\n",
    "start = time.time()\n",
    "t.save('AnnIndex.ann')\n",
    "end = time.time()\n",
    "print('saving Cr9.ann completed in {}'.format(end-start))"
   ]
  },
  {
   "cell_type": "code",
   "execution_count": 12,
   "id": "f165c5dd-0558-4706-8450-5afd28df085c",
   "metadata": {},
   "outputs": [],
   "source": [
    "dim = 100\n",
    "idx = AnnoyIndex(dim, 'euclidean')\n",
    "idx.load('AnnIndex.ann')\n",
    "model = Word2Vec.load(\"word2vec.model\")"
   ]
  },
  {
   "cell_type": "code",
   "execution_count": 13,
   "id": "bb8d67b3-8938-4421-b6cc-bb873b860c82",
   "metadata": {},
   "outputs": [],
   "source": [
    "index = list(range(len(df)))\n",
    "desc_map = dict(zip(index, df['center_number'].tolist()))\n",
    "stem_map = dict(zip(index, df['state'].tolist()))\n",
    "hsn_map = dict(zip(index, df['center_name'].tolist()))\n",
    "count_map = dict(zip(index, df['marks'].tolist()))"
   ]
  },
  {
   "cell_type": "code",
   "execution_count": 14,
   "id": "8aaefc2c-e1c8-45a4-8f67-bad766c9e33e",
   "metadata": {},
   "outputs": [
    {
     "name": "stderr",
     "output_type": "stream",
     "text": [
      "[nltk_data] Downloading package stopwords to\n",
      "[nltk_data]     C:\\Users\\aryan\\AppData\\Roaming\\nltk_data...\n",
      "[nltk_data]   Package stopwords is already up-to-date!\n"
     ]
    }
   ],
   "source": [
    "import re\n",
    "import nltk\n",
    "from nltk.corpus import stopwords\n",
    "from nltk.stem.snowball import SnowballStemmer\n",
    "\n",
    "# Ensure stopwords are downloaded\n",
    "nltk.download('stopwords')\n",
    "\n",
    "# Initialize the stopwords and stemmer\n",
    "stop_words = set(stopwords.words('english'))\n",
    "s_stemmer = SnowballStemmer(\"english\")  # You can specify the language"
   ]
  },
  {
   "cell_type": "code",
   "execution_count": 15,
   "id": "75c76703-52d6-4e9c-9424-4bc205c45078",
   "metadata": {},
   "outputs": [],
   "source": [
    "def get_vector(s):\n",
    "    tokenized_phrase = word_tokenize(s)\n",
    "    filtered_tokenized_phrase = [word for word in tokenized_phrase if word in model.wv.key_to_index]\n",
    "     # Check if the filtered list is empty\n",
    "    if len(filtered_tokenized_phrase) == 0:\n",
    "        # Return a zero vector to avoid ZeroDivisionError\n",
    "        return np.zeros(model.vector_size)\n",
    "    \n",
    "    # Compute the average vector\n",
    "    average_vector = sum([model.wv.get_vector(word) for word in filtered_tokenized_phrase]) / len(\n",
    "        filtered_tokenized_phrase)\n",
    "    return average_vector\n",
    "\n",
    "def clean_query(query):\n",
    "    x=re.sub(r'[^\\w\\s\\d]', ' ', query)\n",
    "    x=re.sub(r'(?<=\\d)(?=\\D)|(?<=\\D)(?=\\d)', ' ', x)\n",
    "    x=re.sub(r'\\b\\w{1}\\b', '', x)\n",
    "    x=re.sub(r'(\\_+)', '', x)\n",
    "    x=re.sub(r'\\s+', ' ', x)\n",
    "    x=x.strip().lower()\n",
    "    x=' '.join([i for i in x.split() if i not in stopwords])\n",
    "    x=' '.join([s_stemmer.stem(i) for i in x.split()])\n",
    "    return x\n",
    "    \n",
    "def search_similar_products(query, top_k=10):\n",
    "    similar_indices = idx.get_nns_by_vector(get_vector(query), top_k)\n",
    "    d={}\n",
    "    results = []\n",
    "    for i in similar_indices:\n",
    "        results.append({\n",
    "            'desc': desc_map[i],\n",
    "            'stem': stem_map[i],\n",
    "            'hsn': hsn_map[i],\n",
    "            'count': count_map[i]\n",
    "        })\n",
    "    results=sorted(results, key=lambda x: x['count'], reverse=True)  \n",
    "    l=['@'+str(i['hsn'])[:4] for i in results][:4]\n",
    "    \n",
    "    # for i,row in df_std[df_std['hsn'].isin(l)].iterrows(): \n",
    "    #     results.append({\n",
    "    #         'std_hsn': row['hsn'],\n",
    "    #         'std_hsn_desc': row['hsn_desc'],\n",
    "    #     })        \n",
    "    \n",
    "    for i in results:\n",
    "        if 'hsn' in i.keys():\n",
    "            i['hsn']=str(i['hsn'])\n",
    "            if len(i['hsn'])==3:\n",
    "                i['hsn']='0'+i['hsn']\n",
    "        # if 'std_hsn' in i.keys():\n",
    "        #         i['std_hsn']=i['std_hsn'][1:]\n",
    "    \n",
    "    return results"
   ]
  },
  {
   "cell_type": "code",
   "execution_count": 16,
   "id": "2890d103-d27f-4143-a758-83d07beda67f",
   "metadata": {},
   "outputs": [
    {
     "name": "stdin",
     "output_type": "stream",
     "text": [
      "Enter your query:  Anda\n"
     ]
    },
    {
     "name": "stdout",
     "output_type": "stream",
     "text": [
      "Search Results:\n",
      "center number: 380101\n",
      "Center name: D.A.V. COLLEGE AMRITSAR (ID: C-27938)\n",
      "Count: 564\n",
      "------------------------------\n",
      "center number: 380102\n",
      "Center name: ARMY PUBLIC SCHOOL AMRITSAR\n",
      "Count: 563\n",
      "------------------------------\n",
      "center number: 380103\n",
      "Center name: DELHI PUBLIC SCHOOL G T ROAD AMRITSAR PUNJAB\n",
      "Count: 264\n",
      "------------------------------\n",
      "center number: 380102\n",
      "Center name: ARMY PUBLIC SCHOOL AMRITSAR\n",
      "Count: 208\n",
      "------------------------------\n",
      "center number: 380103\n",
      "Center name: DELHI PUBLIC SCHOOL G T ROAD AMRITSAR PUNJAB\n",
      "Count: 204\n",
      "------------------------------\n",
      "center number: 380101\n",
      "Center name: D.A.V. COLLEGE AMRITSAR (ID: C-27938)\n",
      "Count: 191\n",
      "------------------------------\n",
      "center number: 380101\n",
      "Center name: D.A.V. COLLEGE AMRITSAR (ID: C-27938)\n",
      "Count: 178\n",
      "------------------------------\n",
      "center number: 380102\n",
      "Center name: ARMY PUBLIC SCHOOL AMRITSAR\n",
      "Count: 141\n",
      "------------------------------\n",
      "center number: 380102\n",
      "Center name: ARMY PUBLIC SCHOOL AMRITSAR\n",
      "Count: 64\n",
      "------------------------------\n",
      "center number: 380101\n",
      "Center name: D.A.V. COLLEGE AMRITSAR (ID: C-27938)\n",
      "Count: 57\n",
      "------------------------------\n"
     ]
    },
    {
     "name": "stdin",
     "output_type": "stream",
     "text": [
      "Enter your query:  Delhi\n"
     ]
    },
    {
     "name": "stdout",
     "output_type": "stream",
     "text": [
      "Search Results:\n",
      "center number: 380101\n",
      "Center name: D.A.V. COLLEGE AMRITSAR (ID: C-27938)\n",
      "Count: 564\n",
      "------------------------------\n",
      "center number: 380102\n",
      "Center name: ARMY PUBLIC SCHOOL AMRITSAR\n",
      "Count: 563\n",
      "------------------------------\n",
      "center number: 380103\n",
      "Center name: DELHI PUBLIC SCHOOL G T ROAD AMRITSAR PUNJAB\n",
      "Count: 264\n",
      "------------------------------\n",
      "center number: 380102\n",
      "Center name: ARMY PUBLIC SCHOOL AMRITSAR\n",
      "Count: 208\n",
      "------------------------------\n",
      "center number: 380103\n",
      "Center name: DELHI PUBLIC SCHOOL G T ROAD AMRITSAR PUNJAB\n",
      "Count: 204\n",
      "------------------------------\n",
      "center number: 380101\n",
      "Center name: D.A.V. COLLEGE AMRITSAR (ID: C-27938)\n",
      "Count: 191\n",
      "------------------------------\n",
      "center number: 380101\n",
      "Center name: D.A.V. COLLEGE AMRITSAR (ID: C-27938)\n",
      "Count: 178\n",
      "------------------------------\n",
      "center number: 380102\n",
      "Center name: ARMY PUBLIC SCHOOL AMRITSAR\n",
      "Count: 141\n",
      "------------------------------\n",
      "center number: 380102\n",
      "Center name: ARMY PUBLIC SCHOOL AMRITSAR\n",
      "Count: 64\n",
      "------------------------------\n",
      "center number: 380101\n",
      "Center name: D.A.V. COLLEGE AMRITSAR (ID: C-27938)\n",
      "Count: 57\n",
      "------------------------------\n"
     ]
    },
    {
     "ename": "KeyboardInterrupt",
     "evalue": "Interrupted by user",
     "output_type": "error",
     "traceback": [
      "\u001b[1;31m---------------------------------------------------------------------------\u001b[0m",
      "\u001b[1;31mKeyboardInterrupt\u001b[0m                         Traceback (most recent call last)",
      "Cell \u001b[1;32mIn[16], line 2\u001b[0m\n\u001b[0;32m      1\u001b[0m \u001b[38;5;28;01mwhile\u001b[39;00m \u001b[38;5;28;01mTrue\u001b[39;00m:\n\u001b[1;32m----> 2\u001b[0m     query \u001b[38;5;241m=\u001b[39m \u001b[38;5;28;43minput\u001b[39;49m\u001b[43m(\u001b[49m\u001b[38;5;124;43m\"\u001b[39;49m\u001b[38;5;124;43mEnter your query: \u001b[39;49m\u001b[38;5;124;43m\"\u001b[39;49m\u001b[43m)\u001b[49m\n\u001b[0;32m      3\u001b[0m     \u001b[38;5;28;01mif\u001b[39;00m query\u001b[38;5;241m.\u001b[39mlower() \u001b[38;5;241m==\u001b[39m \u001b[38;5;124m\"\u001b[39m\u001b[38;5;124mexit\u001b[39m\u001b[38;5;124m\"\u001b[39m:\n\u001b[0;32m      4\u001b[0m         \u001b[38;5;28;01mbreak\u001b[39;00m\n",
      "File \u001b[1;32mC:\\ProgramData\\anaconda3\\envs\\BTP\\Lib\\site-packages\\ipykernel\\kernelbase.py:1282\u001b[0m, in \u001b[0;36mKernel.raw_input\u001b[1;34m(self, prompt)\u001b[0m\n\u001b[0;32m   1280\u001b[0m     msg \u001b[38;5;241m=\u001b[39m \u001b[38;5;124m\"\u001b[39m\u001b[38;5;124mraw_input was called, but this frontend does not support input requests.\u001b[39m\u001b[38;5;124m\"\u001b[39m\n\u001b[0;32m   1281\u001b[0m     \u001b[38;5;28;01mraise\u001b[39;00m StdinNotImplementedError(msg)\n\u001b[1;32m-> 1282\u001b[0m \u001b[38;5;28;01mreturn\u001b[39;00m \u001b[38;5;28;43mself\u001b[39;49m\u001b[38;5;241;43m.\u001b[39;49m\u001b[43m_input_request\u001b[49m\u001b[43m(\u001b[49m\n\u001b[0;32m   1283\u001b[0m \u001b[43m    \u001b[49m\u001b[38;5;28;43mstr\u001b[39;49m\u001b[43m(\u001b[49m\u001b[43mprompt\u001b[49m\u001b[43m)\u001b[49m\u001b[43m,\u001b[49m\n\u001b[0;32m   1284\u001b[0m \u001b[43m    \u001b[49m\u001b[38;5;28;43mself\u001b[39;49m\u001b[38;5;241;43m.\u001b[39;49m\u001b[43m_parent_ident\u001b[49m\u001b[43m[\u001b[49m\u001b[38;5;124;43m\"\u001b[39;49m\u001b[38;5;124;43mshell\u001b[39;49m\u001b[38;5;124;43m\"\u001b[39;49m\u001b[43m]\u001b[49m\u001b[43m,\u001b[49m\n\u001b[0;32m   1285\u001b[0m \u001b[43m    \u001b[49m\u001b[38;5;28;43mself\u001b[39;49m\u001b[38;5;241;43m.\u001b[39;49m\u001b[43mget_parent\u001b[49m\u001b[43m(\u001b[49m\u001b[38;5;124;43m\"\u001b[39;49m\u001b[38;5;124;43mshell\u001b[39;49m\u001b[38;5;124;43m\"\u001b[39;49m\u001b[43m)\u001b[49m\u001b[43m,\u001b[49m\n\u001b[0;32m   1286\u001b[0m \u001b[43m    \u001b[49m\u001b[43mpassword\u001b[49m\u001b[38;5;241;43m=\u001b[39;49m\u001b[38;5;28;43;01mFalse\u001b[39;49;00m\u001b[43m,\u001b[49m\n\u001b[0;32m   1287\u001b[0m \u001b[43m\u001b[49m\u001b[43m)\u001b[49m\n",
      "File \u001b[1;32mC:\\ProgramData\\anaconda3\\envs\\BTP\\Lib\\site-packages\\ipykernel\\kernelbase.py:1325\u001b[0m, in \u001b[0;36mKernel._input_request\u001b[1;34m(self, prompt, ident, parent, password)\u001b[0m\n\u001b[0;32m   1322\u001b[0m \u001b[38;5;28;01mexcept\u001b[39;00m \u001b[38;5;167;01mKeyboardInterrupt\u001b[39;00m:\n\u001b[0;32m   1323\u001b[0m     \u001b[38;5;66;03m# re-raise KeyboardInterrupt, to truncate traceback\u001b[39;00m\n\u001b[0;32m   1324\u001b[0m     msg \u001b[38;5;241m=\u001b[39m \u001b[38;5;124m\"\u001b[39m\u001b[38;5;124mInterrupted by user\u001b[39m\u001b[38;5;124m\"\u001b[39m\n\u001b[1;32m-> 1325\u001b[0m     \u001b[38;5;28;01mraise\u001b[39;00m \u001b[38;5;167;01mKeyboardInterrupt\u001b[39;00m(msg) \u001b[38;5;28;01mfrom\u001b[39;00m \u001b[38;5;28;01mNone\u001b[39;00m\n\u001b[0;32m   1326\u001b[0m \u001b[38;5;28;01mexcept\u001b[39;00m \u001b[38;5;167;01mException\u001b[39;00m:\n\u001b[0;32m   1327\u001b[0m     \u001b[38;5;28mself\u001b[39m\u001b[38;5;241m.\u001b[39mlog\u001b[38;5;241m.\u001b[39mwarning(\u001b[38;5;124m\"\u001b[39m\u001b[38;5;124mInvalid Message:\u001b[39m\u001b[38;5;124m\"\u001b[39m, exc_info\u001b[38;5;241m=\u001b[39m\u001b[38;5;28;01mTrue\u001b[39;00m)\n",
      "\u001b[1;31mKeyboardInterrupt\u001b[0m: Interrupted by user"
     ]
    }
   ],
   "source": [
    "while True:\n",
    "    query = input(\"Enter your query: \")\n",
    "    if query.lower() == \"exit\":\n",
    "        break\n",
    "    results = search_similar_products(query)\n",
    "    print(\"Search Results:\")\n",
    "    for result in results:\n",
    "        if 'desc' in result:\n",
    "            print(f\"center number: {result['desc']}\")\n",
    "            print(f\"Center name: {result['hsn']}\")\n",
    "            print(f\"Count: {result['count']}\")\n",
    "        elif 'std_hsn' in result:\n",
    "            print(f\"Standard HSN Code: {result['std_hsn']}\")\n",
    "            print(f\"Description: {result['std_hsn_desc']}\")\n",
    "        print(\"-\" * 30)"
   ]
  },
  {
   "cell_type": "code",
   "execution_count": null,
   "id": "d2a402b1-37eb-43e2-9ace-56dc764039d4",
   "metadata": {},
   "outputs": [],
   "source": []
  }
 ],
 "metadata": {
  "kernelspec": {
   "display_name": "Python 3 (ipykernel)",
   "language": "python",
   "name": "python3"
  },
  "language_info": {
   "codemirror_mode": {
    "name": "ipython",
    "version": 3
   },
   "file_extension": ".py",
   "mimetype": "text/x-python",
   "name": "python",
   "nbconvert_exporter": "python",
   "pygments_lexer": "ipython3",
   "version": "3.11.9"
  }
 },
 "nbformat": 4,
 "nbformat_minor": 5
}
